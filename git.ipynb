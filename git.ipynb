{
 "cells": [
  {
   "cell_type": "code",
   "execution_count": 1,
   "id": "919058bb-f0d6-4370-b159-5d54fdd89093",
   "metadata": {},
   "outputs": [
    {
     "name": "stdout",
     "output_type": "stream",
     "text": [
      "Initialized empty Git repository in C:/Users/dbda38/DBDA38/DL/.git/\n"
     ]
    },
    {
     "name": "stderr",
     "output_type": "stream",
     "text": [
      "hint: Using 'master' as the name for the initial branch. This default branch name\n",
      "hint: is subject to change. To configure the initial branch name to use in all\n",
      "hint: of your new repositories, which will suppress this warning, call:\n",
      "hint:\n",
      "hint: \tgit config --global init.defaultBranch <name>\n",
      "hint:\n",
      "hint: Names commonly chosen instead of 'master' are 'main', 'trunk' and\n",
      "hint: 'development'. The just-created branch can be renamed via this command:\n",
      "hint:\n",
      "hint: \tgit branch -m <name>\n"
     ]
    }
   ],
   "source": [
    "!git init"
   ]
  },
  {
   "cell_type": "code",
   "execution_count": 8,
   "id": "325c5c33-045a-4243-93f2-a21d8c276f49",
   "metadata": {},
   "outputs": [
    {
     "name": "stderr",
     "output_type": "stream",
     "text": [
      "Cloning into 'DL'...\n"
     ]
    }
   ],
   "source": [
    "!git clone https://github.com/skg1312/DL.git"
   ]
  },
  {
   "cell_type": "code",
   "execution_count": 51,
   "id": "749bf31e-f85b-4c6e-9cc1-0155738cbe8d",
   "metadata": {},
   "outputs": [
    {
     "name": "stderr",
     "output_type": "stream",
     "text": [
      "warning: in the working copy of 'Assisgnment/.ipynb_checkpoints/Assignment_DL-1-checkpoint.ipynb', LF will be replaced by CRLF the next time Git touches it\n",
      "warning: in the working copy of 'Assisgnment/Assignment_DL-1.ipynb', LF will be replaced by CRLF the next time Git touches it\n"
     ]
    }
   ],
   "source": [
    "!git add ."
   ]
  },
  {
   "cell_type": "code",
   "execution_count": 52,
   "id": "f3192030-f5bd-49c8-8534-8e423d9061ba",
   "metadata": {},
   "outputs": [
    {
     "name": "stdout",
     "output_type": "stream",
     "text": [
      "[main 8c6bb24] Assignment-1\n",
      " 2 files changed, 648 insertions(+)\n",
      " create mode 100644 Assisgnment/.ipynb_checkpoints/Assignment_DL-1-checkpoint.ipynb\n",
      " create mode 100644 Assisgnment/Assignment_DL-1.ipynb\n"
     ]
    }
   ],
   "source": [
    "!git commit -m \"Assignment-1\""
   ]
  },
  {
   "cell_type": "code",
   "execution_count": 19,
   "id": "21087753-dea4-428c-9236-2ae33933c9b4",
   "metadata": {},
   "outputs": [
    {
     "name": "stdout",
     "output_type": "stream",
     "text": [
      "* main\n"
     ]
    }
   ],
   "source": [
    "!git branch"
   ]
  },
  {
   "cell_type": "code",
   "execution_count": 26,
   "id": "666d6e7c-3904-4849-95b5-88210962c688",
   "metadata": {},
   "outputs": [],
   "source": [
    "!git remote add origin https://github.com/skg1312/DL.git"
   ]
  },
  {
   "cell_type": "code",
   "execution_count": 30,
   "id": "0591257b-baf2-4988-823b-c5eea3605f5e",
   "metadata": {},
   "outputs": [
    {
     "name": "stderr",
     "output_type": "stream",
     "text": [
      "fatal: the requested upstream branch 'origin' does not exist\n",
      "hint:\n",
      "hint: If you are planning on basing your work on an upstream\n",
      "hint: branch that already exists at the remote, you may need to\n",
      "hint: run \"git fetch\" to retrieve it.\n",
      "hint:\n",
      "hint: If you are planning to push out a new local branch that\n",
      "hint: will track its remote counterpart, you may want to use\n",
      "hint: \"git push -u\" to set the upstream config as you push.\n",
      "hint: Disable this message with \"git config advice.setUpstreamFailure false\"\n"
     ]
    }
   ],
   "source": [
    "!git branch --set-upstream-to=origin main"
   ]
  },
  {
   "cell_type": "code",
   "execution_count": 32,
   "id": "d50efbc7-eab9-4e99-bec0-d6537f291c63",
   "metadata": {},
   "outputs": [
    {
     "name": "stderr",
     "output_type": "stream",
     "text": [
      "From https://github.com/skg1312/DL\n",
      " * branch            main       -> FETCH_HEAD\n",
      "hint: You have divergent branches and need to specify how to reconcile them.\n",
      "hint: You can do so by running one of the following commands sometime before\n",
      "hint: your next pull:\n",
      "hint:\n",
      "hint:   git config pull.rebase false  # merge\n",
      "hint:   git config pull.rebase true   # rebase\n",
      "hint:   git config pull.ff only       # fast-forward only\n",
      "hint:\n",
      "hint: You can replace \"git config\" with \"git config --global\" to set a default\n",
      "hint: preference for all repositories. You can also pass --rebase, --no-rebase,\n",
      "hint: or --ff-only on the command line to override the configured default per\n",
      "hint: invocation.\n",
      "fatal: Need to specify how to reconcile divergent branches.\n"
     ]
    }
   ],
   "source": [
    "!git pull https://github.com/skg1312/DL.git main"
   ]
  },
  {
   "cell_type": "code",
   "execution_count": 33,
   "id": "a558e9a0-f162-4b82-be2c-3e7a3bdaebfc",
   "metadata": {},
   "outputs": [
    {
     "name": "stdout",
     "output_type": "stream",
     "text": [
      "* main\n"
     ]
    }
   ],
   "source": [
    "!git branch"
   ]
  },
  {
   "cell_type": "code",
   "execution_count": 34,
   "id": "c7fa0823-cbfb-4376-ad7a-bdc4cb164b7d",
   "metadata": {},
   "outputs": [
    {
     "name": "stdout",
     "output_type": "stream",
     "text": [
      "origin\thttps://github.com/skg1312/DL.git (fetch)\n",
      "origin\thttps://github.com/skg1312/DL.git (push)\n"
     ]
    }
   ],
   "source": [
    "!git remote -v"
   ]
  },
  {
   "cell_type": "code",
   "execution_count": 53,
   "id": "a4365a8c-54ac-430e-9ab8-faa6aa7e989f",
   "metadata": {},
   "outputs": [
    {
     "name": "stdout",
     "output_type": "stream",
     "text": [
      "branch 'main' set up to track 'origin/main'.\n"
     ]
    },
    {
     "name": "stderr",
     "output_type": "stream",
     "text": [
      "To https://github.com/skg1312/DL.git\n",
      "   6ca2978..8c6bb24  main -> main\n"
     ]
    }
   ],
   "source": [
    "!git push -u origin main"
   ]
  },
  {
   "cell_type": "code",
   "execution_count": 37,
   "id": "acb1a9f0-ea37-479b-b8f8-7a81d249f7a8",
   "metadata": {},
   "outputs": [
    {
     "name": "stdout",
     "output_type": "stream",
     "text": [
      "branch 'main' set up to track 'origin/main'.\n"
     ]
    }
   ],
   "source": [
    "!git branch --set-upstream-to=origin/main"
   ]
  },
  {
   "cell_type": "code",
   "execution_count": 49,
   "id": "6e5ea3d8-51c5-485f-90e2-49fb9ae4a35c",
   "metadata": {},
   "outputs": [
    {
     "name": "stdout",
     "output_type": "stream",
     "text": [
      "Already up to date.\n"
     ]
    },
    {
     "name": "stderr",
     "output_type": "stream",
     "text": [
      "From https://github.com/skg1312/DL\n",
      " * branch            main       -> FETCH_HEAD\n"
     ]
    }
   ],
   "source": [
    "!git pull origin main"
   ]
  },
  {
   "cell_type": "code",
   "execution_count": 47,
   "id": "7f231dc3-4f73-4677-88bb-4ec6a9ce2c9e",
   "metadata": {},
   "outputs": [
    {
     "name": "stderr",
     "output_type": "stream",
     "text": [
      "warning: unable to rmdir 'DL': Directory not empty\n",
      "Rebasing (1/2)\n",
      "Rebasing (2/2)\n",
      "\n",
      "\u001b[KSuccessfully rebased and updated refs/heads/main.\n"
     ]
    }
   ],
   "source": [
    "!git pull --rebase"
   ]
  },
  {
   "cell_type": "code",
   "execution_count": 43,
   "id": "24306c3f-913f-470f-9584-6ee90f17876b",
   "metadata": {},
   "outputs": [
    {
     "name": "stdout",
     "output_type": "stream",
     "text": [
      "On branch main\n",
      "Your branch and 'origin/main' have diverged,\n",
      "and have 1 and 2 different commits each, respectively.\n",
      "  (use \"git pull\" if you want to integrate the remote branch with yours)\n",
      "\n",
      "Changes not staged for commit:\n",
      "  (use \"git add <file>...\" to update what will be committed)\n",
      "  (use \"git restore <file>...\" to discard changes in working directory)\n",
      "  (commit or discard the untracked or modified content in submodules)\n",
      "\tmodified:   DL (untracked content)\n",
      "\tmodified:   git.ipynb\n",
      "\n",
      "no changes added to commit (use \"git add\" and/or \"git commit -a\")\n"
     ]
    }
   ],
   "source": [
    "!git status"
   ]
  },
  {
   "cell_type": "code",
   "execution_count": null,
   "id": "9b78cce3-3abf-4a75-a480-c013defd3ae0",
   "metadata": {},
   "outputs": [],
   "source": [
    "!git add .\n",
    "!git commit -m \"Save changes before pulling remote updates\""
   ]
  }
 ],
 "metadata": {
  "kernelspec": {
   "display_name": "Python 3 (ipykernel)",
   "language": "python",
   "name": "python3"
  },
  "language_info": {
   "codemirror_mode": {
    "name": "ipython",
    "version": 3
   },
   "file_extension": ".py",
   "mimetype": "text/x-python",
   "name": "python",
   "nbconvert_exporter": "python",
   "pygments_lexer": "ipython3",
   "version": "3.12.7"
  }
 },
 "nbformat": 4,
 "nbformat_minor": 5
}
