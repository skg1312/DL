{
 "cells": [
  {
   "cell_type": "code",
   "execution_count": 1,
   "id": "919058bb-f0d6-4370-b159-5d54fdd89093",
   "metadata": {},
   "outputs": [
    {
     "name": "stdout",
     "output_type": "stream",
     "text": [
      "Initialized empty Git repository in C:/Users/dbda38/DBDA38/DL/.git/\n"
     ]
    },
    {
     "name": "stderr",
     "output_type": "stream",
     "text": [
      "hint: Using 'master' as the name for the initial branch. This default branch name\n",
      "hint: is subject to change. To configure the initial branch name to use in all\n",
      "hint: of your new repositories, which will suppress this warning, call:\n",
      "hint:\n",
      "hint: \tgit config --global init.defaultBranch <name>\n",
      "hint:\n",
      "hint: Names commonly chosen instead of 'master' are 'main', 'trunk' and\n",
      "hint: 'development'. The just-created branch can be renamed via this command:\n",
      "hint:\n",
      "hint: \tgit branch -m <name>\n"
     ]
    }
   ],
   "source": [
    "!git init"
   ]
  },
  {
   "cell_type": "code",
   "execution_count": 8,
   "id": "325c5c33-045a-4243-93f2-a21d8c276f49",
   "metadata": {},
   "outputs": [
    {
     "name": "stderr",
     "output_type": "stream",
     "text": [
      "Cloning into 'DL'...\n"
     ]
    }
   ],
   "source": [
    "!git clone https://github.com/skg1312/DL.git"
   ]
  },
  {
   "cell_type": "code",
   "execution_count": 11,
   "id": "749bf31e-f85b-4c6e-9cc1-0155738cbe8d",
   "metadata": {},
   "outputs": [],
   "source": [
    "!git add ."
   ]
  },
  {
   "cell_type": "code",
   "execution_count": null,
   "id": "f3192030-f5bd-49c8-8534-8e423d9061ba",
   "metadata": {},
   "outputs": [],
   "source": [
    "!git commit -m \"Assignment-1\""
   ]
  }
 ],
 "metadata": {
  "kernelspec": {
   "display_name": "Python 3 (ipykernel)",
   "language": "python",
   "name": "python3"
  },
  "language_info": {
   "codemirror_mode": {
    "name": "ipython",
    "version": 3
   },
   "file_extension": ".py",
   "mimetype": "text/x-python",
   "name": "python",
   "nbconvert_exporter": "python",
   "pygments_lexer": "ipython3",
   "version": "3.12.7"
  }
 },
 "nbformat": 4,
 "nbformat_minor": 5
}
