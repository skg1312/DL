{
 "cells": [
  {
   "cell_type": "code",
   "execution_count": 1,
   "id": "919058bb-f0d6-4370-b159-5d54fdd89093",
   "metadata": {},
   "outputs": [
    {
     "name": "stdout",
     "output_type": "stream",
     "text": [
      "Initialized empty Git repository in C:/Users/dbda38/DBDA38/DL/.git/\n"
     ]
    },
    {
     "name": "stderr",
     "output_type": "stream",
     "text": [
      "hint: Using 'master' as the name for the initial branch. This default branch name\n",
      "hint: is subject to change. To configure the initial branch name to use in all\n",
      "hint: of your new repositories, which will suppress this warning, call:\n",
      "hint:\n",
      "hint: \tgit config --global init.defaultBranch <name>\n",
      "hint:\n",
      "hint: Names commonly chosen instead of 'master' are 'main', 'trunk' and\n",
      "hint: 'development'. The just-created branch can be renamed via this command:\n",
      "hint:\n",
      "hint: \tgit branch -m <name>\n"
     ]
    }
   ],
   "source": [
    "!git init"
   ]
  },
  {
   "cell_type": "code",
   "execution_count": 8,
   "id": "325c5c33-045a-4243-93f2-a21d8c276f49",
   "metadata": {},
   "outputs": [
    {
     "name": "stderr",
     "output_type": "stream",
     "text": [
      "Cloning into 'DL'...\n"
     ]
    }
   ],
   "source": [
    "!git clone https://github.com/skg1312/DL.git"
   ]
  },
  {
   "cell_type": "code",
   "execution_count": 54,
   "id": "749bf31e-f85b-4c6e-9cc1-0155738cbe8d",
   "metadata": {},
   "outputs": [
    {
     "name": "stderr",
     "output_type": "stream",
     "text": [
      "warning: in the working copy of 'git.ipynb', LF will be replaced by CRLF the next time Git touches it\n"
     ]
    }
   ],
   "source": [
    "!git add ."
   ]
  },
  {
   "cell_type": "code",
   "execution_count": 55,
   "id": "f3192030-f5bd-49c8-8534-8e423d9061ba",
   "metadata": {},
   "outputs": [
    {
     "name": "stdout",
     "output_type": "stream",
     "text": [
      "[main 38c52cb] Assignment-1\n",
      " 2 files changed, 32 insertions(+), 34 deletions(-)\n",
      " delete mode 160000 DL\n"
     ]
    }
   ],
   "source": [
    "!git commit -m \"Assignment-1\""
   ]
  },
  {
   "cell_type": "code",
   "execution_count": 19,
   "id": "21087753-dea4-428c-9236-2ae33933c9b4",
   "metadata": {},
   "outputs": [
    {
     "name": "stdout",
     "output_type": "stream",
     "text": [
      "* main\n"
     ]
    }
   ],
   "source": [
    "!git branch"
   ]
  },
  {
   "cell_type": "code",
   "execution_count": 26,
   "id": "666d6e7c-3904-4849-95b5-88210962c688",
   "metadata": {},
   "outputs": [],
   "source": [
    "!git remote add origin https://github.com/skg1312/DL.git"
   ]
  },
  {
   "cell_type": "code",
   "execution_count": 56,
   "id": "a4365a8c-54ac-430e-9ab8-faa6aa7e989f",
   "metadata": {},
   "outputs": [
    {
     "name": "stdout",
     "output_type": "stream",
     "text": [
      "branch 'main' set up to track 'origin/main'.\n"
     ]
    },
    {
     "name": "stderr",
     "output_type": "stream",
     "text": [
      "To https://github.com/skg1312/DL.git\n",
      "   8c6bb24..38c52cb  main -> main\n"
     ]
    }
   ],
   "source": [
    "!git push -u origin main"
   ]
  }
 ],
 "metadata": {
  "kernelspec": {
   "display_name": "Python 3 (ipykernel)",
   "language": "python",
   "name": "python3"
  },
  "language_info": {
   "codemirror_mode": {
    "name": "ipython",
    "version": 3
   },
   "file_extension": ".py",
   "mimetype": "text/x-python",
   "name": "python",
   "nbconvert_exporter": "python",
   "pygments_lexer": "ipython3",
   "version": "3.12.7"
  }
 },
 "nbformat": 4,
 "nbformat_minor": 5
}
